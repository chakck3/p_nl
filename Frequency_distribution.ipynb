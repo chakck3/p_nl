{
  "nbformat": 4,
  "nbformat_minor": 0,
  "metadata": {
    "colab": {
      "name": "Frequency_distribution.ipynb",
      "version": "0.3.2",
      "provenance": [],
      "include_colab_link": true
    },
    "kernelspec": {
      "name": "python3",
      "display_name": "Python 3"
    }
  },
  "cells": [
    {
      "cell_type": "markdown",
      "metadata": {
        "id": "view-in-github",
        "colab_type": "text"
      },
      "source": [
        "<a href=\"https://colab.research.google.com/github/chakck3/p_nl/blob/master/Frequency_distribution.ipynb\" target=\"_parent\"><img src=\"https://colab.research.google.com/assets/colab-badge.svg\" alt=\"Open In Colab\"/></a>"
      ]
    },
    {
      "cell_type": "code",
      "metadata": {
        "id": "8IoGjnu2mjDA",
        "colab_type": "code",
        "colab": {
          "base_uri": "https://localhost:8080/",
          "height": 68
        },
        "outputId": "115fb1a4-762d-4ce3-c7cf-58add5ba93f0"
      },
      "source": [
        "import nltk\n",
        "nltk.download('brown')"
      ],
      "execution_count": 3,
      "outputs": [
        {
          "output_type": "stream",
          "text": [
            "[nltk_data] Downloading package brown to /root/nltk_data...\n",
            "[nltk_data]   Unzipping corpora/brown.zip.\n"
          ],
          "name": "stdout"
        },
        {
          "output_type": "execute_result",
          "data": {
            "text/plain": [
              "True"
            ]
          },
          "metadata": {
            "tags": []
          },
          "execution_count": 3
        }
      ]
    },
    {
      "cell_type": "code",
      "metadata": {
        "id": "dHxjkeiHmu38",
        "colab_type": "code",
        "colab": {
          "base_uri": "https://localhost:8080/",
          "height": 54
        },
        "outputId": "201d54cf-f75d-4e79-ebbe-68bc9cbdb519"
      },
      "source": [
        "print(brown.categories())"
      ],
      "execution_count": 4,
      "outputs": [
        {
          "output_type": "stream",
          "text": [
            "['adventure', 'belles_lettres', 'editorial', 'fiction', 'government', 'hobbies', 'humor', 'learned', 'lore', 'mystery', 'news', 'religion', 'reviews', 'romance', 'science_fiction']\n"
          ],
          "name": "stdout"
        }
      ]
    },
    {
      "cell_type": "code",
      "metadata": {
        "id": "MQC89ngUmz7A",
        "colab_type": "code",
        "colab": {}
      },
      "source": [
        "genres = ['fiction', 'humor', 'romance']\n",
        "whwords = ['what', 'which', 'how', 'why', 'when', 'where', 'who']"
      ],
      "execution_count": 0,
      "outputs": []
    },
    {
      "cell_type": "code",
      "metadata": {
        "id": "P6wQu-J3nI51",
        "colab_type": "code",
        "colab": {
          "base_uri": "https://localhost:8080/",
          "height": 51
        },
        "outputId": "80c233fc-b864-4b42-933f-3f1424d80fda"
      },
      "source": [
        "for i in range(0, len(genres)):genre = genres[i]\n",
        "print()\n",
        "print(\"Analysing '\" + genre + \"' wh words\")\n",
        "genre_text = brown.words(categories = genre)"
      ],
      "execution_count": 6,
      "outputs": [
        {
          "output_type": "stream",
          "text": [
            "\n",
            "Analysing 'romance' wh words\n"
          ],
          "name": "stdout"
        }
      ]
    },
    {
      "cell_type": "code",
      "metadata": {
        "id": "JYQWTzO2ngOx",
        "colab_type": "code",
        "colab": {
          "base_uri": "https://localhost:8080/",
          "height": 34
        },
        "outputId": "313b3766-483d-407d-e523-d70663d674ce"
      },
      "source": [
        "genre_text"
      ],
      "execution_count": 7,
      "outputs": [
        {
          "output_type": "execute_result",
          "data": {
            "text/plain": [
              "['They', 'neither', 'liked', 'nor', 'disliked', 'the', ...]"
            ]
          },
          "metadata": {
            "tags": []
          },
          "execution_count": 7
        }
      ]
    },
    {
      "cell_type": "code",
      "metadata": {
        "id": "GWEN954fnyOK",
        "colab_type": "code",
        "colab": {}
      },
      "source": [
        "fdist = nltk.FreqDist(genre_text)"
      ],
      "execution_count": 0,
      "outputs": []
    },
    {
      "cell_type": "code",
      "metadata": {
        "id": "FcQlSYm0nqLy",
        "colab_type": "code",
        "colab": {
          "base_uri": "https://localhost:8080/",
          "height": 34
        },
        "outputId": "9c9b90d3-a885-421a-b3d2-59f5376dd8b0"
      },
      "source": [
        "for wh in whwords:\n",
        "  print(wh + ':', fdist[wh], end=' ')"
      ],
      "execution_count": 10,
      "outputs": [
        {
          "output_type": "stream",
          "text": [
            "what: 121 which: 104 how: 60 why: 34 when: 126 where: 54 who: 89 "
          ],
          "name": "stdout"
        }
      ]
    },
    {
      "cell_type": "code",
      "metadata": {
        "id": "c4N0niNnn2y8",
        "colab_type": "code",
        "colab": {
          "base_uri": "https://localhost:8080/",
          "height": 136
        },
        "outputId": "b6ade482-0d83-43ca-9c09-8d0cffe4b8d7"
      },
      "source": [
        "for i in range(0, len(genres)):\n",
        "  genre = genres[i]\n",
        "  print()\n",
        "  print(\"Analysing '\" + genre + \"' wh words\")\n",
        "  genre_text = brown.words(categories = genre)\n",
        "  for wh in whwords:\n",
        "    print(wh + ':', fdist[wh], end=' ')"
      ],
      "execution_count": 11,
      "outputs": [
        {
          "output_type": "stream",
          "text": [
            "\n",
            "Analysing 'fiction' wh words\n",
            "what: 121 which: 104 how: 60 why: 34 when: 126 where: 54 who: 89 \n",
            "Analysing 'humor' wh words\n",
            "what: 121 which: 104 how: 60 why: 34 when: 126 where: 54 who: 89 \n",
            "Analysing 'romance' wh words\n",
            "what: 121 which: 104 how: 60 why: 34 when: 126 where: 54 who: 89 "
          ],
          "name": "stdout"
        }
      ]
    },
    {
      "cell_type": "code",
      "metadata": {
        "id": "Wg2KPu-_oL8p",
        "colab_type": "code",
        "colab": {
          "base_uri": "https://localhost:8080/",
          "height": 68
        },
        "outputId": "be74b888-6def-4627-98d0-454f6dfb9922"
      },
      "source": [
        "nltk.download('webtext')\n",
        "print(webtext.fileids())"
      ],
      "execution_count": 15,
      "outputs": [
        {
          "output_type": "stream",
          "text": [
            "[nltk_data] Downloading package webtext to /root/nltk_data...\n",
            "[nltk_data]   Unzipping corpora/webtext.zip.\n",
            "['firefox.txt', 'grail.txt', 'overheard.txt', 'pirates.txt', 'singles.txt', 'wine.txt']\n"
          ],
          "name": "stdout"
        }
      ]
    },
    {
      "cell_type": "code",
      "metadata": {
        "id": "Y2BWIZ0Fo3ez",
        "colab_type": "code",
        "colab": {}
      },
      "source": [
        "fileid = 'singles.txt'\n",
        "wbt_words = webtext.words(fileid)\n",
        "fdist = nltk.FreqDist(wbt_words)"
      ],
      "execution_count": 0,
      "outputs": []
    },
    {
      "cell_type": "code",
      "metadata": {
        "id": "VD6kDCidpOUQ",
        "colab_type": "code",
        "colab": {
          "base_uri": "https://localhost:8080/",
          "height": 34
        },
        "outputId": "2c80f750-40aa-4800-e565-25d9da9bf9ea"
      },
      "source": [
        "print('Max appearing token \"', fdist.max(), '\" : ', fdist[fdist.max()])"
      ],
      "execution_count": 18,
      "outputs": [
        {
          "output_type": "stream",
          "text": [
            "Max appearing token \" , \" :  539\n"
          ],
          "name": "stdout"
        }
      ]
    },
    {
      "cell_type": "code",
      "metadata": {
        "id": "mrSdi3GcpgcV",
        "colab_type": "code",
        "colab": {
          "base_uri": "https://localhost:8080/",
          "height": 34
        },
        "outputId": "b13793db-34be-48ff-cb59-a9eb4ceee2bf"
      },
      "source": [
        "print('Distinct tokens in the bag: ', fdist.N())"
      ],
      "execution_count": 19,
      "outputs": [
        {
          "output_type": "stream",
          "text": [
            "Distinct tokens in the bag:  4867\n"
          ],
          "name": "stdout"
        }
      ]
    },
    {
      "cell_type": "code",
      "metadata": {
        "id": "SXgVoIdMpzv3",
        "colab_type": "code",
        "colab": {
          "base_uri": "https://localhost:8080/",
          "height": 71
        },
        "outputId": "c4925402-7853-47aa-b78d-f3ce04530a72"
      },
      "source": [
        "print('Most common 10 words in the bag')\n",
        "print(fdist.most_common(10))"
      ],
      "execution_count": 21,
      "outputs": [
        {
          "output_type": "stream",
          "text": [
            "Most common 10 words in the bag\n",
            "[(',', 539), ('.', 353), ('/', 110), ('for', 99), ('and', 74), ('to', 74), ('lady', 68), ('-', 66), ('seeks', 60), ('a', 52)]\n"
          ],
          "name": "stdout"
        }
      ]
    },
    {
      "cell_type": "code",
      "metadata": {
        "id": "0SQTYwDgp7IH",
        "colab_type": "code",
        "colab": {
          "base_uri": "https://localhost:8080/",
          "height": 105
        },
        "outputId": "87f7f4b5-41b8-4aef-9449-affb0bf5bf33"
      },
      "source": [
        "print('Frequency distribution')\n",
        "print(fdist.tabulate())"
      ],
      "execution_count": 22,
      "outputs": [
        {
          "output_type": "stream",
          "text": [
            "Frequency distribution\n",
            "             ,              .              /            for            and             to           lady              -          seeks              a           with              S           ship              &   relationship            fun             in           slim          build              o              s              y         smoker             50            non              I         movies           good         honest         dining            out          rship        looking           like            age     attractive            who     friendship             40             45             35        Looking              5           MALE          times           male           meet           life        seeking              r           open            the         female             of           GSOH          enjoy             ''            fit             or           LADY            guy             no             be          music             ft        drinker             30              f           tall       employed         caring         social           Male              N              D          fship      interests             is        genuine         medium          beach          Seeks          likes              n           poss           WLTM         single             yo              A         travel        similar        married           have          quiet           well           home           long          would          walks         nights             at        Seeking             .,        country         enjoys        MARRIED              6              2            40s       children     ATTRACTIVE         secure             up            30s        fishing             60          woman          share       discreet            DTE            man             by             43             an         living             am           Must            med         drives           Lady              +             25         SINGLE           area           term            you           sexy              ?             36            GUY           Late           view             me             55          going         sought           gent        healthy           love            MAN       outdoors              !         loving           prof              :         casual             42             47        sincere         things          young             Im      gentleman      permanent             57        special           ties            FIT         humour           kids             38       possible          Likes            not      Interests           self        suburbs          years          Would             NS             48          Asian           DtoE        outings      gardening          ASIAN             TO          older       friendly            fem        working            old         sports           away   professional           same       generous       European              c             39    financially             on             58            Age           SLIM         CARING             my         person    BUSINESSMAN        outdoor              (          sense       romantic          GREEK          under            mid             ME     Attractive             46        theatre           GENT           easy        welcome            any        Suburbs              F             37            SOH            but          loves            yrs         Aussie              R            ing       meetings           East           subs             32        dancing         attrac     encounters              E            mum           late          great    personality            YOU            new          never        animals              Y              O         dinner          there             11           nice              8           BBQs           aged           size           hair             If          early        outlook           cars            etc         friend        camping            Mid         classy             59         Single       ROMANTIC           TALL           down          earth           many         petite       outgoing      easygoing            Non           time          Fship       weekends            are          being        company            SWM          happy         please          other    intelligent       reliable             OK         family            gen           50yo              d           attr           Good       intimate           wine            6ft             49      presented             52            Guy           into     articulate   conversation             53             65     Friendship          Photo           SEXY            DAD           44yo       OUTGOING             28              w       business          owner        include            all        forward           from          women          ready   AFFECTIONATE            ARE             we           Slim            Med        someone            You     background         Enjoys          cafes         future         Prefer       Adelaide  companionship            AFL           View        fitness        parties     AUSTRALIAN           With          Enjoy          sport            Fun        between       Possible            20s           this           HAIR             Am             TV            ish             56         taller         wining              h           plus     Australian            60s         ACTIVE      EASYGOING          light           lets        GENUINE            AND         HONEST             Hi             44           Love              9            gym           GOOD           blue          looks           AUST          Early             20    independant            50s         retain            her           PICK         active           incl           year        quality          EARLY           Self         Sports          short             ok            OLD         Indian           Dark           Poss           full        replies            ALA         lonely           perm             if           work           Prof       listener    responsible        reading       exciting            sim            int          photo        cooking          house          Woman              1        weekend             so        walking            bch       brunette             My            Pen            Are          inner          Greek             BE        missing        Married         affair             kg           pref   affectionate          loyal        natural            sgl          LOVER           Aust           Subs        Genuine        dinners           LOVE        partner       relation      adventure        COUNTRY            soh        Vibrant    adventurous           very          ABOUT      Easygoing            511       Southern     vegetarian             \",           dark             10     travelling         racing             41             No         normal        DANCING        SEEKING           must             ),          reply          dance          maybe         enough    comfortable            SWF            pls         Social           35YO       Security          Guard        uniform          below            Nat           Open             yr              M           door              e           feet        groomed           arts       Ringwood      surrounds     meaningful        hearing           ABLE          Phone           play         Sought         mutual    fulfillment          ALONE           lost            too           hope          sight          Maybe          could        explore     beginnings       together           high          needs           WONT   disappointed        AMIABLE            170             cm        without            get           chil           dren             29         COPPER        REDHEAD             61         Taurus           Into         AUSSIE          Solid         FATHER            son             re     lationship        coastal           town           Eyre      Peninsula            FUN           meal            com         panion      BEAUTIFUL    INTELLIGENT        MUSICAL            Shy             12         blonde          drink        Guiness           then           want         BLONDE           BLUE           EYES         Medium           golf           bike         riding           DVDs        kissing       cuddling       prepared          boats            .),         modern         CUDDLY           FULL        FIGURED          fully             +.        towards           Give           call           chat         simple       LISTENER           Well       educated           eyes          brown      important            nor       distance          speed       complete        circles           bbqs       football       HANDSOME           Tall       standing          wants        privacy          still   independance        private           HERE             AM            Now           that           your      attention      LIMESTONE          COAST         REGION  sufficiencies   permaculture        smoking           LATE          Music            art    environment       concerts    unimportant        RETIRED           Like        caravan        heading         Darwin            May        driving            one          child          Clare        Barossa         region       northern  understanding         varied     VIETNAMESE          WIDOW    established             UK           born             31             YO        Eastern          blond            bet           YEAR        Working        CENTRAL      VICTORIAN            Dad           teen      daughters        HEALTHY            emp      tradesman            Sri         Lankan          Olive     Complexion          dship            rel         MATURE           Sexy           WELL        DRESSED    emotionally        figured            shy            NRL         nature          Rship           only           Lots        friends          57YRS         suited    Nationality           34yo       tractive         Ladies           poor         career           Have         always      connected           more          Women        TAINING    interesting           46yo           Kind         having          Witty       humorous           comb      beginning          57yrs          177cm        meeting         Please           send      GENTLEMAN           wild             HI            54y            nts     supporting            nat         pamper           roll          hurry             Is          spend          month       Charters         Towers     especially       festival          write            Ref           8826   PROFESSIONAL        amongst      Christian          178cm           79kg          Clean            cut          natur            ist         minded            red             hd       eurasian           Home             70         SOUGHT             BY           Kids             as           Nice    Businessman       ATHLETIC           Morn             SD         Caring          thats           seek         mature         ladies         BRIGHT            Boy          brain           cook       Physique           fair          lunch       converse       Essendon         Bright       positive         LOVING         Female        dressed            rom       elegance         CASUAL        weekday     obligation       EUROPEAN           36yo      encounter           41yo          37yrs         larger     Preferably            nth           LIKE       MISTRESS           YOUR        treated           Bold       precious      available         during            day     appreciate           Lets           Talk              )             LJ             JS      Bayswater             Be           mine             26          South          burly         beared           ston            MID        strings       attached       HANDYMAN            TLC       position             MT          ELIZA       Business           gorg        passion        running            LTR           girl        serious            Man      assertive           kind        stylish            For      Northcote           Call           PROF             68     Mornington        SCORPIO     passionate             95            def           Knox            4WD             Fe             Ok          STERN     HEADMASTER           firm           hand        naughty            Sgl            ave             bi        curious            dad            sub              \"           FAIR           WANT         SPOILT           Warm           38yo          YOUNG          girls             23             YR        attract            uni        student        daytime         FRIEND           find       athletic         cuddly        ATTRACT        younger             18             27           GOSH          busty     curvaceous DISCIPLINARIAN           Euro            Nth           52yo         HARLEY          RIDER         HERPES       JAPANESE              b        widowed           over          North           West             34        travels            lot       personal        trainer            Sth           42yo          olive           skin            dog         thinks             he          human         spoilt     commitment          OLDER           NICE           GUYS           Aged            two        females          night       clubbing            BOY             +,         Harley          rider           semi        retired         LITTLE          MAGIC         little          green           eyed         ABOUND       CAREFREE       creative      executive       flexible          laugh      contrasts          finer       outlooks          YEARS      lifestyle       ADELAIDE          HILLS    ADVENTUROUS      sensitive      travelled           AGED     Interested     basketball        cricket            pin        bowling          SANFL     nightclubs       TERTIARY       Educated             V8          motor       EMPLOYED         haired       strictly          hours           near           City           EASY          GOING    Intelligent       exercise          daily    trustworthy      integrity         morals       Children       BALLROOM        PARTNER             Me       slimmish          after          again           than          avoid  complications     unattached           CITY           GIRL          SEEKS        ROMANCE         farmer           land          clean         shaven         strong         values          Other        callers             DO          DANCE           Rock           Roll        leading            510        western       southern            5ft          large      nonsmoker         mother             15            boy          Lives             NE         FEISTY           FOXY          YUMMY     GRANDMUMMY       laughter          least           just          watch      fanatical          bonus         GARDEN             62      entertain           lead              4           VERY             54           hugs         kisses          those        tingles           when          click          lover        Amongst          river           real          WOMAN             OF      SUBSTANCE        elegant      preserved           sgle         Prince       Charming         Living           city         filled       glorious        sunsets    candlelight           fine        romance           true          YORKE      PENINSULA            70s     pleasingly          plump      luncheons          cards         indoor          bowls       marriage           Melb           43YO            car           48YO           54yo      companion             go          Could        hearted        classes          about           some     experience       Ballroom           Jive             51         sedate    appreciated             63           genu            ine       possibly      religious         horses           dogs           food        beaches           fish           Gent         dating            fin         lovely            Fem      activites           read           40yo            Mum    judgemental           45yo           danc        general     themselves           Only      enquiries  ABBREVIATIONS          Sense            All        letters       answered           Down          Earth           DONT         FORGET             ..            Its           FREE      advertise        Perfect          Match \n",
            "           539            353            110             99             74             74             68             66             60             52             44             36             33             30             29             28             27             27             27             26             24             23             23             23             22             22             22             21             20             19             19             18             18             18             17             17             17             17             16             16             16             16             16             15             15             15             15             15             14             14             14             14             14             14             14             14             14             14             13             13             13             13             13             13             13             13             13             13             12             12             12             12             12             12             12             11             11             11             11             11             11             11             11             11             11             11             10             10             10             10             10             10             10             10              9              9              9              9              9              9              9              9              9              9              9              9              8              8              8              8              8              8              8              8              8              8              8              8              7              7              7              7              7              7              7              7              7              7              7              7              7              6              6              6              6              6              6              6              6              6              6              6              6              6              6              6              6              6              6              6              6              6              6              6              6              6              6              6              5              5              5              5              5              5              5              5              5              5              5              5              5              5              5              5              5              5              5              5              5              5              5              5              5              5              5              5              5              4              4              4              4              4              4              4              4              4              4              4              4              4              4              4              4              4              4              4              4              4              4              4              4              4              4              4              4              4              4              4              4              4              4              4              4              4              4              4              4              4              4              4              4              4              4              4              4              4              4              4              4              3              3              3              3              3              3              3              3              3              3              3              3              3              3              3              3              3              3              3              3              3              3              3              3              3              3              3              3              3              3              3              3              3              3              3              3              3              3              3              3              3              3              3              3              3              3              3              3              3              3              3              3              3              3              3              3              3              3              3              3              3              3              3              3              3              3              3              3              3              3              3              3              3              3              3              2              2              2              2              2              2              2              2              2              2              2              2              2              2              2              2              2              2              2              2              2              2              2              2              2              2              2              2              2              2              2              2              2              2              2              2              2              2              2              2              2              2              2              2              2              2              2              2              2              2              2              2              2              2              2              2              2              2              2              2              2              2              2              2              2              2              2              2              2              2              2              2              2              2              2              2              2              2              2              2              2              2              2              2              2              2              2              2              2              2              2              2              2              2              2              2              2              2              2              2              2              2              2              2              2              2              2              2              2              2              2              2              2              2              2              2              2              2              2              2              2              2              2              2              2              2              2              2              2              2              2              2              2              2              2              2              2              2              2              2              2              2              2              2              2              2              2              2              2              2              2              2              2              2              2              2              2              2              2              2              2              2              2              2              2              2              1              1              1              1              1              1              1              1              1              1              1              1              1              1              1              1              1              1              1              1              1              1              1              1              1              1              1              1              1              1              1              1              1              1              1              1              1              1              1              1              1              1              1              1              1              1              1              1              1              1              1              1              1              1              1              1              1              1              1              1              1              1              1              1              1              1              1              1              1              1              1              1              1              1              1              1              1              1              1              1              1              1              1              1              1              1              1              1              1              1              1              1              1              1              1              1              1              1              1              1              1              1              1              1              1              1              1              1              1              1              1              1              1              1              1              1              1              1              1              1              1              1              1              1              1              1              1              1              1              1              1              1              1              1              1              1              1              1              1              1              1              1              1              1              1              1              1              1              1              1              1              1              1              1              1              1              1              1              1              1              1              1              1              1              1              1              1              1              1              1              1              1              1              1              1              1              1              1              1              1              1              1              1              1              1              1              1              1              1              1              1              1              1              1              1              1              1              1              1              1              1              1              1              1              1              1              1              1              1              1              1              1              1              1              1              1              1              1              1              1              1              1              1              1              1              1              1              1              1              1              1              1              1              1              1              1              1              1              1              1              1              1              1              1              1              1              1              1              1              1              1              1              1              1              1              1              1              1              1              1              1              1              1              1              1              1              1              1              1              1              1              1              1              1              1              1              1              1              1              1              1              1              1              1              1              1              1              1              1              1              1              1              1              1              1              1              1              1              1              1              1              1              1              1              1              1              1              1              1              1              1              1              1              1              1              1              1              1              1              1              1              1              1              1              1              1              1              1              1              1              1              1              1              1              1              1              1              1              1              1              1              1              1              1              1              1              1              1              1              1              1              1              1              1              1              1              1              1              1              1              1              1              1              1              1              1              1              1              1              1              1              1              1              1              1              1              1              1              1              1              1              1              1              1              1              1              1              1              1              1              1              1              1              1              1              1              1              1              1              1              1              1              1              1              1              1              1              1              1              1              1              1              1              1              1              1              1              1              1              1              1              1              1              1              1              1              1              1              1              1              1              1              1              1              1              1              1              1              1              1              1              1              1              1              1              1              1              1              1              1              1              1              1              1              1              1              1              1              1              1              1              1              1              1              1              1              1              1              1              1              1              1              1              1              1              1              1              1              1              1              1              1              1              1              1              1              1              1              1              1              1              1              1              1              1              1              1              1              1              1              1              1              1              1              1              1              1              1              1              1              1              1              1              1              1              1              1              1              1              1              1              1              1              1              1              1              1              1              1              1              1              1              1              1              1              1              1              1              1              1              1              1              1              1              1              1              1              1              1              1              1              1              1              1              1              1              1              1              1              1              1              1              1              1              1              1              1              1              1              1              1              1              1              1              1              1              1              1              1              1              1              1              1              1              1              1              1              1              1              1              1              1              1              1              1              1              1              1              1              1              1              1              1              1              1              1              1              1              1              1              1              1              1              1              1              1              1              1              1              1              1              1              1              1              1              1              1              1 \n",
            "None\n"
          ],
          "name": "stdout"
        }
      ]
    },
    {
      "cell_type": "code",
      "metadata": {
        "id": "_DubcWAgqIZA",
        "colab_type": "code",
        "colab": {
          "base_uri": "https://localhost:8080/",
          "height": 354
        },
        "outputId": "a7d34a90-5765-4d15-961e-a61a143ebc59"
      },
      "source": [
        "fdist.plot(cumulative=True)"
      ],
      "execution_count": 23,
      "outputs": [
        {
          "output_type": "display_data",
          "data": {
            "image/png": "[encoded data removed]",
            "text/plain": [
              "<Figure size 432x288 with 1 Axes>"
            ]
          },
          "metadata": {
            "tags": []
          }
        }
      ]
    },
    {
      "cell_type": "code",
      "metadata": {
        "id": "Vhch-vqeqPUk",
        "colab_type": "code",
        "colab": {}
      },
      "source": [
        ""
      ],
      "execution_count": 0,
      "outputs": []
    }
  ]
}